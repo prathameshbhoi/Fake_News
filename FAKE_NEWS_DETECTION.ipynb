{
 "cells": [
  {
   "cell_type": "markdown",
   "metadata": {},
   "source": [
    "# Fake News Detection"
   ]
  },
  {
   "cell_type": "markdown",
   "metadata": {},
   "source": [
    "## Importing Libraries"
   ]
  },
  {
   "cell_type": "code",
   "execution_count": 1,
   "metadata": {},
   "outputs": [],
   "source": [
    "import pandas as pd\n",
    "import numpy as np\n",
    "import seaborn as sns\n",
    "import matplotlib.pyplot as plt\n",
    "from sklearn.model_selection import train_test_split\n",
    "from sklearn.metrics import accuracy_score\n",
    "from sklearn.metrics import classification_report\n",
    "import re\n",
    "import string"
   ]
  },
  {
   "cell_type": "markdown",
   "metadata": {},
   "source": [
    "## Importing Dataset"
   ]
  },
  {
   "cell_type": "code",
   "execution_count": 2,
   "metadata": {},
   "outputs": [],
   "source": [
    "df_fake = pd.read_csv(\"Fake.csv\")\n",
    "df_true = pd.read_csv(\"True.csv\")"
   ]
  },
  {
   "cell_type": "code",
   "execution_count": 3,
   "metadata": {},
   "outputs": [
    {
     "data": {
      "text/html": [
       "<div>\n",
       "<style scoped>\n",
       "    .dataframe tbody tr th:only-of-type {\n",
       "        vertical-align: middle;\n",
       "    }\n",
       "\n",
       "    .dataframe tbody tr th {\n",
       "        vertical-align: top;\n",
       "    }\n",
       "\n",
       "    .dataframe thead th {\n",
       "        text-align: right;\n",
       "    }\n",
       "</style>\n",
       "<table border=\"1\" class=\"dataframe\">\n",
       "  <thead>\n",
       "    <tr style=\"text-align: right;\">\n",
       "      <th></th>\n",
       "      <th>title</th>\n",
       "      <th>text</th>\n",
       "      <th>subject</th>\n",
       "      <th>date</th>\n",
       "    </tr>\n",
       "  </thead>\n",
       "  <tbody>\n",
       "    <tr>\n",
       "      <th>0</th>\n",
       "      <td>JUST IN: DALLAS COWBOYS OWNER Jerry Jones Is L...</td>\n",
       "      <td>Make no mistake about it, the NFL needs to sho...</td>\n",
       "      <td>left-news</td>\n",
       "      <td>Oct 29, 2017</td>\n",
       "    </tr>\n",
       "    <tr>\n",
       "      <th>1</th>\n",
       "      <td>Trump Bares Himself at UNGA, “In a Kind of Neo...</td>\n",
       "      <td>President Trump speaking at the UNGA. (Photo:...</td>\n",
       "      <td>Middle-east</td>\n",
       "      <td>September 20, 2017</td>\n",
       "    </tr>\n",
       "    <tr>\n",
       "      <th>2</th>\n",
       "      <td>ENVIRONMENTAL TERRORISTS Videotape Themselves ...</td>\n",
       "      <td>The social media director for Trump called the...</td>\n",
       "      <td>Government News</td>\n",
       "      <td>Mar 12, 2017</td>\n",
       "    </tr>\n",
       "    <tr>\n",
       "      <th>3</th>\n",
       "      <td>BLACK WOMAN ATTACKS Man, His Car, Boat With Ha...</td>\n",
       "      <td>A black New Jersey woman who said she s  sick ...</td>\n",
       "      <td>politics</td>\n",
       "      <td>Apr 5, 2017</td>\n",
       "    </tr>\n",
       "    <tr>\n",
       "      <th>4</th>\n",
       "      <td>Hannity Has A Complete MELTDOWN After Being C...</td>\n",
       "      <td>The son of Sonny and Cher successfully caused ...</td>\n",
       "      <td>News</td>\n",
       "      <td>March 11, 2017</td>\n",
       "    </tr>\n",
       "    <tr>\n",
       "      <th>5</th>\n",
       "      <td>CHARLIE DANIELS SENDS A MESSAGE To Bruce Sprin...</td>\n",
       "      <td>Charlie daniels is such a great man and a grea...</td>\n",
       "      <td>left-news</td>\n",
       "      <td>Apr 17, 2016</td>\n",
       "    </tr>\n",
       "    <tr>\n",
       "      <th>6</th>\n",
       "      <td>WHY FORD’S DARK SECRET May Come Back To Haunt ...</td>\n",
       "      <td>Founder of the Ford Motor Company, Henry Ford,...</td>\n",
       "      <td>politics</td>\n",
       "      <td>Oct 16, 2017</td>\n",
       "    </tr>\n",
       "    <tr>\n",
       "      <th>7</th>\n",
       "      <td>‘Responsible Gun Owner’ Road Rages, Threatens...</td>\n",
       "      <td>The National Rifle Association tells us that a...</td>\n",
       "      <td>News</td>\n",
       "      <td>February 2, 2016</td>\n",
       "    </tr>\n",
       "    <tr>\n",
       "      <th>8</th>\n",
       "      <td>WATCH: Trump Stumbles When Asked If He Would ...</td>\n",
       "      <td>Donald Trump sat down with for an interview wi...</td>\n",
       "      <td>News</td>\n",
       "      <td>July 24, 2016</td>\n",
       "    </tr>\n",
       "    <tr>\n",
       "      <th>9</th>\n",
       "      <td>Charles Koch Does A Brutally Honest Interview...</td>\n",
       "      <td>Charles Koch sat down with ABC News and did an...</td>\n",
       "      <td>News</td>\n",
       "      <td>April 25, 2016</td>\n",
       "    </tr>\n",
       "  </tbody>\n",
       "</table>\n",
       "</div>"
      ],
      "text/plain": [
       "                                               title  \\\n",
       "0  JUST IN: DALLAS COWBOYS OWNER Jerry Jones Is L...   \n",
       "1  Trump Bares Himself at UNGA, “In a Kind of Neo...   \n",
       "2  ENVIRONMENTAL TERRORISTS Videotape Themselves ...   \n",
       "3  BLACK WOMAN ATTACKS Man, His Car, Boat With Ha...   \n",
       "4   Hannity Has A Complete MELTDOWN After Being C...   \n",
       "5  CHARLIE DANIELS SENDS A MESSAGE To Bruce Sprin...   \n",
       "6  WHY FORD’S DARK SECRET May Come Back To Haunt ...   \n",
       "7   ‘Responsible Gun Owner’ Road Rages, Threatens...   \n",
       "8   WATCH: Trump Stumbles When Asked If He Would ...   \n",
       "9   Charles Koch Does A Brutally Honest Interview...   \n",
       "\n",
       "                                                text          subject  \\\n",
       "0  Make no mistake about it, the NFL needs to sho...        left-news   \n",
       "1   President Trump speaking at the UNGA. (Photo:...      Middle-east   \n",
       "2  The social media director for Trump called the...  Government News   \n",
       "3  A black New Jersey woman who said she s  sick ...         politics   \n",
       "4  The son of Sonny and Cher successfully caused ...             News   \n",
       "5  Charlie daniels is such a great man and a grea...        left-news   \n",
       "6  Founder of the Ford Motor Company, Henry Ford,...         politics   \n",
       "7  The National Rifle Association tells us that a...             News   \n",
       "8  Donald Trump sat down with for an interview wi...             News   \n",
       "9  Charles Koch sat down with ABC News and did an...             News   \n",
       "\n",
       "                 date  \n",
       "0        Oct 29, 2017  \n",
       "1  September 20, 2017  \n",
       "2        Mar 12, 2017  \n",
       "3         Apr 5, 2017  \n",
       "4      March 11, 2017  \n",
       "5        Apr 17, 2016  \n",
       "6        Oct 16, 2017  \n",
       "7    February 2, 2016  \n",
       "8       July 24, 2016  \n",
       "9      April 25, 2016  "
      ]
     },
     "execution_count": 3,
     "metadata": {},
     "output_type": "execute_result"
    }
   ],
   "source": [
    "# Shuffle the data\n",
    "from sklearn.utils import shuffle\n",
    "df_fake = shuffle(df_fake)\n",
    "df_fake = df_fake.reset_index(drop=True)\n",
    "df_fake.head(10)"
   ]
  },
  {
   "cell_type": "code",
   "execution_count": 4,
   "metadata": {},
   "outputs": [
    {
     "data": {
      "text/html": [
       "<div>\n",
       "<style scoped>\n",
       "    .dataframe tbody tr th:only-of-type {\n",
       "        vertical-align: middle;\n",
       "    }\n",
       "\n",
       "    .dataframe tbody tr th {\n",
       "        vertical-align: top;\n",
       "    }\n",
       "\n",
       "    .dataframe thead th {\n",
       "        text-align: right;\n",
       "    }\n",
       "</style>\n",
       "<table border=\"1\" class=\"dataframe\">\n",
       "  <thead>\n",
       "    <tr style=\"text-align: right;\">\n",
       "      <th></th>\n",
       "      <th>title</th>\n",
       "      <th>text</th>\n",
       "      <th>subject</th>\n",
       "      <th>date</th>\n",
       "    </tr>\n",
       "  </thead>\n",
       "  <tbody>\n",
       "    <tr>\n",
       "      <th>0</th>\n",
       "      <td>Indian state ruled by PM Modi's party defers m...</td>\n",
       "      <td>NEW DELHI (Reuters) - India s western state of...</td>\n",
       "      <td>worldnews</td>\n",
       "      <td>October 24, 2017</td>\n",
       "    </tr>\n",
       "    <tr>\n",
       "      <th>1</th>\n",
       "      <td>Comey had pushed for more resources for Russia...</td>\n",
       "      <td>WASHINGTON (Reuters) - FBI Director James Come...</td>\n",
       "      <td>politicsNews</td>\n",
       "      <td>May 10, 2017</td>\n",
       "    </tr>\n",
       "    <tr>\n",
       "      <th>2</th>\n",
       "      <td>U.S. lobbyist Tony Podesta leaves firm amid  M...</td>\n",
       "      <td>WASHINGTON (Reuters) - Prominent Washington lo...</td>\n",
       "      <td>politicsNews</td>\n",
       "      <td>October 30, 2017</td>\n",
       "    </tr>\n",
       "    <tr>\n",
       "      <th>3</th>\n",
       "      <td>Trump administration blacklists three official...</td>\n",
       "      <td>WASHINGTON (Reuters) - The Trump administratio...</td>\n",
       "      <td>worldnews</td>\n",
       "      <td>September 6, 2017</td>\n",
       "    </tr>\n",
       "    <tr>\n",
       "      <th>4</th>\n",
       "      <td>Trump interviews four for Fed chair job, to de...</td>\n",
       "      <td>WASHINGTON (Reuters) - U.S. President Donald T...</td>\n",
       "      <td>politicsNews</td>\n",
       "      <td>September 29, 2017</td>\n",
       "    </tr>\n",
       "    <tr>\n",
       "      <th>5</th>\n",
       "      <td>Forbidden in China, but Trump skirts 'Great Fi...</td>\n",
       "      <td>BEIJING (Reuters) - U.S. President Donald Trum...</td>\n",
       "      <td>politicsNews</td>\n",
       "      <td>November 9, 2017</td>\n",
       "    </tr>\n",
       "    <tr>\n",
       "      <th>6</th>\n",
       "      <td>Saudi Arabia arrests 46 for stirring divisions...</td>\n",
       "      <td>DUBAI (Reuters) - Saudi authorities said on We...</td>\n",
       "      <td>worldnews</td>\n",
       "      <td>October 4, 2017</td>\n",
       "    </tr>\n",
       "    <tr>\n",
       "      <th>7</th>\n",
       "      <td>House Democrats expect to see intelligence doc...</td>\n",
       "      <td>WASHINGTON (Reuters) - Congressional intellige...</td>\n",
       "      <td>politicsNews</td>\n",
       "      <td>April 5, 2017</td>\n",
       "    </tr>\n",
       "    <tr>\n",
       "      <th>8</th>\n",
       "      <td>UK PM May's spokesman warns against 'speculati...</td>\n",
       "      <td>LONDON (Reuters) - A spokesman for British Pri...</td>\n",
       "      <td>worldnews</td>\n",
       "      <td>December 6, 2017</td>\n",
       "    </tr>\n",
       "    <tr>\n",
       "      <th>9</th>\n",
       "      <td>U.S. Senate intelligence chairman does not cal...</td>\n",
       "      <td>WASHINGTON (Reuters) - U.S. Senator Richard Bu...</td>\n",
       "      <td>politicsNews</td>\n",
       "      <td>March 2, 2017</td>\n",
       "    </tr>\n",
       "  </tbody>\n",
       "</table>\n",
       "</div>"
      ],
      "text/plain": [
       "                                               title  \\\n",
       "0  Indian state ruled by PM Modi's party defers m...   \n",
       "1  Comey had pushed for more resources for Russia...   \n",
       "2  U.S. lobbyist Tony Podesta leaves firm amid  M...   \n",
       "3  Trump administration blacklists three official...   \n",
       "4  Trump interviews four for Fed chair job, to de...   \n",
       "5  Forbidden in China, but Trump skirts 'Great Fi...   \n",
       "6  Saudi Arabia arrests 46 for stirring divisions...   \n",
       "7  House Democrats expect to see intelligence doc...   \n",
       "8  UK PM May's spokesman warns against 'speculati...   \n",
       "9  U.S. Senate intelligence chairman does not cal...   \n",
       "\n",
       "                                                text       subject  \\\n",
       "0  NEW DELHI (Reuters) - India s western state of...     worldnews   \n",
       "1  WASHINGTON (Reuters) - FBI Director James Come...  politicsNews   \n",
       "2  WASHINGTON (Reuters) - Prominent Washington lo...  politicsNews   \n",
       "3  WASHINGTON (Reuters) - The Trump administratio...     worldnews   \n",
       "4  WASHINGTON (Reuters) - U.S. President Donald T...  politicsNews   \n",
       "5  BEIJING (Reuters) - U.S. President Donald Trum...  politicsNews   \n",
       "6  DUBAI (Reuters) - Saudi authorities said on We...     worldnews   \n",
       "7  WASHINGTON (Reuters) - Congressional intellige...  politicsNews   \n",
       "8  LONDON (Reuters) - A spokesman for British Pri...     worldnews   \n",
       "9  WASHINGTON (Reuters) - U.S. Senator Richard Bu...  politicsNews   \n",
       "\n",
       "                  date  \n",
       "0    October 24, 2017   \n",
       "1        May 10, 2017   \n",
       "2    October 30, 2017   \n",
       "3   September 6, 2017   \n",
       "4  September 29, 2017   \n",
       "5    November 9, 2017   \n",
       "6     October 4, 2017   \n",
       "7       April 5, 2017   \n",
       "8    December 6, 2017   \n",
       "9       March 2, 2017   "
      ]
     },
     "execution_count": 4,
     "metadata": {},
     "output_type": "execute_result"
    }
   ],
   "source": [
    "# Shuffle the data\n",
    "from sklearn.utils import shuffle\n",
    "df_true = shuffle(df_true)\n",
    "df_true = df_true.reset_index(drop=True)\n",
    "df_true.head(10)"
   ]
  },
  {
   "cell_type": "markdown",
   "metadata": {},
   "source": [
    "## Inserting a column \"class\" as target feature"
   ]
  },
  {
   "cell_type": "code",
   "execution_count": 5,
   "metadata": {},
   "outputs": [],
   "source": [
    "#fake = 0\n",
    "#true = 1\n",
    "\n",
    "df_fake[\"class\"] = 0\n",
    "df_true[\"class\"] = 1"
   ]
  },
  {
   "cell_type": "code",
   "execution_count": 6,
   "metadata": {},
   "outputs": [
    {
     "data": {
      "text/plain": [
       "((23481, 5), (21417, 5))"
      ]
     },
     "execution_count": 6,
     "metadata": {},
     "output_type": "execute_result"
    }
   ],
   "source": [
    "df_fake.shape, df_true.shape"
   ]
  },
  {
   "cell_type": "code",
   "execution_count": 7,
   "metadata": {},
   "outputs": [
    {
     "data": {
      "text/plain": [
       "(44898, 5)"
      ]
     },
     "execution_count": 7,
     "metadata": {},
     "output_type": "execute_result"
    }
   ],
   "source": [
    "# Concatenate dataframes\n",
    "df_conc = pd.concat([df_fake, df_true]).reset_index(drop = True)\n",
    "df_conc.shape"
   ]
  },
  {
   "cell_type": "code",
   "execution_count": 8,
   "metadata": {},
   "outputs": [
    {
     "name": "stdout",
     "output_type": "stream",
     "text": [
      "subject\n",
      "Government News     1570\n",
      "Middle-east          778\n",
      "News                9050\n",
      "US_News              783\n",
      "left-news           4459\n",
      "politics            6841\n",
      "politicsNews       11272\n",
      "worldnews          10145\n",
      "Name: text, dtype: int64\n"
     ]
    },
    {
     "data": {
      "image/png": "[encoded data removed]",
      "text/plain": [
       "<Figure size 432x288 with 1 Axes>"
      ]
     },
     "metadata": {
      "needs_background": "light"
     },
     "output_type": "display_data"
    }
   ],
   "source": [
    "# How many articles per subject?\n",
    "print(df_conc.groupby(['subject'])['text'].count())\n",
    "df_conc.groupby(['subject'])['text'].count().plot(kind=\"bar\")\n",
    "plt.show()"
   ]
  },
  {
   "cell_type": "code",
   "execution_count": 9,
   "metadata": {},
   "outputs": [],
   "source": [
    "# Removing last 10 rows for manual testing\n",
    "df_fake_manual_testing = df_fake.tail(10)\n",
    "for i in range(23480,23470,-1):\n",
    "    df_fake.drop([i], axis = 0, inplace = True)\n",
    "    \n",
    "    \n",
    "df_true_manual_testing = df_true.tail(10)\n",
    "for i in range(21416,21406,-1):\n",
    "    df_true.drop([i], axis = 0, inplace = True)"
   ]
  },
  {
   "cell_type": "code",
   "execution_count": 10,
   "metadata": {},
   "outputs": [
    {
     "data": {
      "text/plain": [
       "((23471, 5), (21407, 5))"
      ]
     },
     "execution_count": 10,
     "metadata": {},
     "output_type": "execute_result"
    }
   ],
   "source": [
    "df_fake.shape, df_true.shape"
   ]
  },
  {
   "cell_type": "code",
   "execution_count": 11,
   "metadata": {},
   "outputs": [
    {
     "name": "stderr",
     "output_type": "stream",
     "text": [
      "<ipython-input-11-3aaf8ec2aad1>:1: SettingWithCopyWarning: \n",
      "A value is trying to be set on a copy of a slice from a DataFrame.\n",
      "Try using .loc[row_indexer,col_indexer] = value instead\n",
      "\n",
      "See the caveats in the documentation: https://pandas.pydata.org/pandas-docs/stable/user_guide/indexing.html#returning-a-view-versus-a-copy\n",
      "  df_fake_manual_testing[\"class\"] = 0\n",
      "<ipython-input-11-3aaf8ec2aad1>:2: SettingWithCopyWarning: \n",
      "A value is trying to be set on a copy of a slice from a DataFrame.\n",
      "Try using .loc[row_indexer,col_indexer] = value instead\n",
      "\n",
      "See the caveats in the documentation: https://pandas.pydata.org/pandas-docs/stable/user_guide/indexing.html#returning-a-view-versus-a-copy\n",
      "  df_true_manual_testing[\"class\"] = 1\n"
     ]
    }
   ],
   "source": [
    "df_fake_manual_testing[\"class\"] = 0\n",
    "df_true_manual_testing[\"class\"] = 1"
   ]
  },
  {
   "cell_type": "code",
   "execution_count": 12,
   "metadata": {},
   "outputs": [
    {
     "data": {
      "text/html": [
       "<div>\n",
       "<style scoped>\n",
       "    .dataframe tbody tr th:only-of-type {\n",
       "        vertical-align: middle;\n",
       "    }\n",
       "\n",
       "    .dataframe tbody tr th {\n",
       "        vertical-align: top;\n",
       "    }\n",
       "\n",
       "    .dataframe thead th {\n",
       "        text-align: right;\n",
       "    }\n",
       "</style>\n",
       "<table border=\"1\" class=\"dataframe\">\n",
       "  <thead>\n",
       "    <tr style=\"text-align: right;\">\n",
       "      <th></th>\n",
       "      <th>title</th>\n",
       "      <th>text</th>\n",
       "      <th>subject</th>\n",
       "      <th>date</th>\n",
       "      <th>class</th>\n",
       "    </tr>\n",
       "  </thead>\n",
       "  <tbody>\n",
       "    <tr>\n",
       "      <th>23471</th>\n",
       "      <td>Trudeau HUMILIATES Trump, Openly Prefers To S...</td>\n",
       "      <td>Canadian Prime Minister Justin Trudeau has, li...</td>\n",
       "      <td>News</td>\n",
       "      <td>July 8, 2017</td>\n",
       "      <td>0</td>\n",
       "    </tr>\n",
       "    <tr>\n",
       "      <th>23472</th>\n",
       "      <td>SMILING HOST Shows Women How To Apply Make-Up ...</td>\n",
       "      <td>This video was filmed on Moroccan television, ...</td>\n",
       "      <td>left-news</td>\n",
       "      <td>Nov 28, 2016</td>\n",
       "      <td>0</td>\n",
       "    </tr>\n",
       "    <tr>\n",
       "      <th>23473</th>\n",
       "      <td>JUDGE NAPOLITANO On Bombshell That Intel Isn’t...</td>\n",
       "      <td>The officials  decision to keep information ci...</td>\n",
       "      <td>politics</td>\n",
       "      <td>Feb 16, 2017</td>\n",
       "      <td>0</td>\n",
       "    </tr>\n",
       "    <tr>\n",
       "      <th>23474</th>\n",
       "      <td>The NRA Just Got Caught In A Lie That Shatter...</td>\n",
       "      <td>Who can forget how emotional Wayne LaPierre wa...</td>\n",
       "      <td>News</td>\n",
       "      <td>April 22, 2016</td>\n",
       "      <td>0</td>\n",
       "    </tr>\n",
       "    <tr>\n",
       "      <th>23475</th>\n",
       "      <td>LET’S MAKE A DEAL: CRUZ SUPER-PAC’S Will Make ...</td>\n",
       "      <td>Is this a deal Trump should take? If he walks ...</td>\n",
       "      <td>politics</td>\n",
       "      <td>Jan 28, 2016</td>\n",
       "      <td>0</td>\n",
       "    </tr>\n",
       "    <tr>\n",
       "      <th>23476</th>\n",
       "      <td>OPEN-BORDER LIBERALS Put Entire Nation On High...</td>\n",
       "      <td>Thank you Angela Merkel German security servic...</td>\n",
       "      <td>left-news</td>\n",
       "      <td>Feb 5, 2016</td>\n",
       "      <td>0</td>\n",
       "    </tr>\n",
       "    <tr>\n",
       "      <th>23477</th>\n",
       "      <td>President Trump’s Moving Pentagon Speech and C...</td>\n",
       "      <td>President Trump and First Lady Melania commemo...</td>\n",
       "      <td>politics</td>\n",
       "      <td>Sep 11, 2017</td>\n",
       "      <td>0</td>\n",
       "    </tr>\n",
       "    <tr>\n",
       "      <th>23478</th>\n",
       "      <td>SHARIA COMPLIANT SWIMSUITS: As Spring Arrives ...</td>\n",
       "      <td>Make no mistake, the Muslim European invaders ...</td>\n",
       "      <td>left-news</td>\n",
       "      <td>Apr 10, 2016</td>\n",
       "      <td>0</td>\n",
       "    </tr>\n",
       "    <tr>\n",
       "      <th>23479</th>\n",
       "      <td>Flint’s #CrookedMayorWeaver Tells Trump He’s N...</td>\n",
       "      <td>Flint s Democrat Mayor Karen Weaver is throwin...</td>\n",
       "      <td>politics</td>\n",
       "      <td>Sep 14, 2016</td>\n",
       "      <td>0</td>\n",
       "    </tr>\n",
       "    <tr>\n",
       "      <th>23480</th>\n",
       "      <td>VIOLENT ANTIFA THUGS WEAR MASKS To Hide Their ...</td>\n",
       "      <td>Antifa is a violent, anti-fascist protest grou...</td>\n",
       "      <td>politics</td>\n",
       "      <td>Sep 4, 2017</td>\n",
       "      <td>0</td>\n",
       "    </tr>\n",
       "  </tbody>\n",
       "</table>\n",
       "</div>"
      ],
      "text/plain": [
       "                                                   title  \\\n",
       "23471   Trudeau HUMILIATES Trump, Openly Prefers To S...   \n",
       "23472  SMILING HOST Shows Women How To Apply Make-Up ...   \n",
       "23473  JUDGE NAPOLITANO On Bombshell That Intel Isn’t...   \n",
       "23474   The NRA Just Got Caught In A Lie That Shatter...   \n",
       "23475  LET’S MAKE A DEAL: CRUZ SUPER-PAC’S Will Make ...   \n",
       "23476  OPEN-BORDER LIBERALS Put Entire Nation On High...   \n",
       "23477  President Trump’s Moving Pentagon Speech and C...   \n",
       "23478  SHARIA COMPLIANT SWIMSUITS: As Spring Arrives ...   \n",
       "23479  Flint’s #CrookedMayorWeaver Tells Trump He’s N...   \n",
       "23480  VIOLENT ANTIFA THUGS WEAR MASKS To Hide Their ...   \n",
       "\n",
       "                                                    text    subject  \\\n",
       "23471  Canadian Prime Minister Justin Trudeau has, li...       News   \n",
       "23472  This video was filmed on Moroccan television, ...  left-news   \n",
       "23473  The officials  decision to keep information ci...   politics   \n",
       "23474  Who can forget how emotional Wayne LaPierre wa...       News   \n",
       "23475  Is this a deal Trump should take? If he walks ...   politics   \n",
       "23476  Thank you Angela Merkel German security servic...  left-news   \n",
       "23477  President Trump and First Lady Melania commemo...   politics   \n",
       "23478  Make no mistake, the Muslim European invaders ...  left-news   \n",
       "23479  Flint s Democrat Mayor Karen Weaver is throwin...   politics   \n",
       "23480  Antifa is a violent, anti-fascist protest grou...   politics   \n",
       "\n",
       "                 date  class  \n",
       "23471    July 8, 2017      0  \n",
       "23472    Nov 28, 2016      0  \n",
       "23473    Feb 16, 2017      0  \n",
       "23474  April 22, 2016      0  \n",
       "23475    Jan 28, 2016      0  \n",
       "23476     Feb 5, 2016      0  \n",
       "23477    Sep 11, 2017      0  \n",
       "23478    Apr 10, 2016      0  \n",
       "23479    Sep 14, 2016      0  \n",
       "23480     Sep 4, 2017      0  "
      ]
     },
     "execution_count": 12,
     "metadata": {},
     "output_type": "execute_result"
    }
   ],
   "source": [
    "df_fake_manual_testing.head(10)"
   ]
  },
  {
   "cell_type": "code",
   "execution_count": 13,
   "metadata": {},
   "outputs": [
    {
     "data": {
      "text/html": [
       "<div>\n",
       "<style scoped>\n",
       "    .dataframe tbody tr th:only-of-type {\n",
       "        vertical-align: middle;\n",
       "    }\n",
       "\n",
       "    .dataframe tbody tr th {\n",
       "        vertical-align: top;\n",
       "    }\n",
       "\n",
       "    .dataframe thead th {\n",
       "        text-align: right;\n",
       "    }\n",
       "</style>\n",
       "<table border=\"1\" class=\"dataframe\">\n",
       "  <thead>\n",
       "    <tr style=\"text-align: right;\">\n",
       "      <th></th>\n",
       "      <th>title</th>\n",
       "      <th>text</th>\n",
       "      <th>subject</th>\n",
       "      <th>date</th>\n",
       "      <th>class</th>\n",
       "    </tr>\n",
       "  </thead>\n",
       "  <tbody>\n",
       "    <tr>\n",
       "      <th>21407</th>\n",
       "      <td>Pence trims Asia trip to deal with domestic pr...</td>\n",
       "      <td>PAGO PAGO, American Samoa (Reuters) - U.S. Vic...</td>\n",
       "      <td>politicsNews</td>\n",
       "      <td>April 24, 2017</td>\n",
       "      <td>1</td>\n",
       "    </tr>\n",
       "    <tr>\n",
       "      <th>21408</th>\n",
       "      <td>Long-stalled email privacy bill advances in Co...</td>\n",
       "      <td>WASHINGTON (Reuters) - Legislation that would ...</td>\n",
       "      <td>politicsNews</td>\n",
       "      <td>April 13, 2016</td>\n",
       "      <td>1</td>\n",
       "    </tr>\n",
       "    <tr>\n",
       "      <th>21409</th>\n",
       "      <td>After pointed criticism, Tillerson urges Gulf ...</td>\n",
       "      <td>WASHINGTON (Reuters) - The United States hopes...</td>\n",
       "      <td>politicsNews</td>\n",
       "      <td>June 21, 2017</td>\n",
       "      <td>1</td>\n",
       "    </tr>\n",
       "    <tr>\n",
       "      <th>21410</th>\n",
       "      <td>New Russian envoy describes 'warm' meeting wit...</td>\n",
       "      <td>MOSCOW (Reuters) - Russia’s newly installed am...</td>\n",
       "      <td>politicsNews</td>\n",
       "      <td>September 8, 2017</td>\n",
       "      <td>1</td>\n",
       "    </tr>\n",
       "    <tr>\n",
       "      <th>21411</th>\n",
       "      <td>Macron: France ready to strengthen force in Sa...</td>\n",
       "      <td>PARIS (Reuters) - President Emmanuel Macron sa...</td>\n",
       "      <td>worldnews</td>\n",
       "      <td>December 23, 2017</td>\n",
       "      <td>1</td>\n",
       "    </tr>\n",
       "    <tr>\n",
       "      <th>21412</th>\n",
       "      <td>Hillary Clinton says U.S. threats of war with ...</td>\n",
       "      <td>SEOUL (Reuters) - Former U.S. presidential can...</td>\n",
       "      <td>worldnews</td>\n",
       "      <td>October 18, 2017</td>\n",
       "      <td>1</td>\n",
       "    </tr>\n",
       "    <tr>\n",
       "      <th>21413</th>\n",
       "      <td>Russian long-range bombers hit Islamic State t...</td>\n",
       "      <td>MOSCOW (Reuters) - Six Russian long-range bomb...</td>\n",
       "      <td>worldnews</td>\n",
       "      <td>December 5, 2017</td>\n",
       "      <td>1</td>\n",
       "    </tr>\n",
       "    <tr>\n",
       "      <th>21414</th>\n",
       "      <td>Zimbabwe opposition chief Tsvangirai suddenly ...</td>\n",
       "      <td>HARARE (Reuters) - Zimbabwe opposition leader ...</td>\n",
       "      <td>worldnews</td>\n",
       "      <td>September 16, 2017</td>\n",
       "      <td>1</td>\n",
       "    </tr>\n",
       "    <tr>\n",
       "      <th>21415</th>\n",
       "      <td>China corruption could lead to Soviet-style co...</td>\n",
       "      <td>BEIJING (Reuters) - China must step up its bat...</td>\n",
       "      <td>worldnews</td>\n",
       "      <td>November 15, 2017</td>\n",
       "      <td>1</td>\n",
       "    </tr>\n",
       "    <tr>\n",
       "      <th>21416</th>\n",
       "      <td>McCain to Trump on Russian hacking: 'The facts...</td>\n",
       "      <td>WASHINGTON (Reuters) - U.S. Republican Senator...</td>\n",
       "      <td>politicsNews</td>\n",
       "      <td>December 11, 2016</td>\n",
       "      <td>1</td>\n",
       "    </tr>\n",
       "  </tbody>\n",
       "</table>\n",
       "</div>"
      ],
      "text/plain": [
       "                                                   title  \\\n",
       "21407  Pence trims Asia trip to deal with domestic pr...   \n",
       "21408  Long-stalled email privacy bill advances in Co...   \n",
       "21409  After pointed criticism, Tillerson urges Gulf ...   \n",
       "21410  New Russian envoy describes 'warm' meeting wit...   \n",
       "21411  Macron: France ready to strengthen force in Sa...   \n",
       "21412  Hillary Clinton says U.S. threats of war with ...   \n",
       "21413  Russian long-range bombers hit Islamic State t...   \n",
       "21414  Zimbabwe opposition chief Tsvangirai suddenly ...   \n",
       "21415  China corruption could lead to Soviet-style co...   \n",
       "21416  McCain to Trump on Russian hacking: 'The facts...   \n",
       "\n",
       "                                                    text       subject  \\\n",
       "21407  PAGO PAGO, American Samoa (Reuters) - U.S. Vic...  politicsNews   \n",
       "21408  WASHINGTON (Reuters) - Legislation that would ...  politicsNews   \n",
       "21409  WASHINGTON (Reuters) - The United States hopes...  politicsNews   \n",
       "21410  MOSCOW (Reuters) - Russia’s newly installed am...  politicsNews   \n",
       "21411  PARIS (Reuters) - President Emmanuel Macron sa...     worldnews   \n",
       "21412  SEOUL (Reuters) - Former U.S. presidential can...     worldnews   \n",
       "21413  MOSCOW (Reuters) - Six Russian long-range bomb...     worldnews   \n",
       "21414  HARARE (Reuters) - Zimbabwe opposition leader ...     worldnews   \n",
       "21415  BEIJING (Reuters) - China must step up its bat...     worldnews   \n",
       "21416  WASHINGTON (Reuters) - U.S. Republican Senator...  politicsNews   \n",
       "\n",
       "                      date  class  \n",
       "21407      April 24, 2017       1  \n",
       "21408      April 13, 2016       1  \n",
       "21409       June 21, 2017       1  \n",
       "21410   September 8, 2017       1  \n",
       "21411   December 23, 2017       1  \n",
       "21412    October 18, 2017       1  \n",
       "21413    December 5, 2017       1  \n",
       "21414  September 16, 2017       1  \n",
       "21415   November 15, 2017       1  \n",
       "21416   December 11, 2016       1  "
      ]
     },
     "execution_count": 13,
     "metadata": {},
     "output_type": "execute_result"
    }
   ],
   "source": [
    "df_true_manual_testing.head(10)"
   ]
  },
  {
   "cell_type": "code",
   "execution_count": 14,
   "metadata": {},
   "outputs": [],
   "source": [
    "df_manual_testing = pd.concat([df_fake_manual_testing,df_true_manual_testing], axis = 0)\n",
    "df_manual_testing.to_csv(\"manual_testing.csv\")"
   ]
  },
  {
   "cell_type": "markdown",
   "metadata": {},
   "source": [
    "## Merging True and Fake Dataframes"
   ]
  },
  {
   "cell_type": "code",
   "execution_count": 15,
   "metadata": {},
   "outputs": [
    {
     "data": {
      "text/html": [
       "<div>\n",
       "<style scoped>\n",
       "    .dataframe tbody tr th:only-of-type {\n",
       "        vertical-align: middle;\n",
       "    }\n",
       "\n",
       "    .dataframe tbody tr th {\n",
       "        vertical-align: top;\n",
       "    }\n",
       "\n",
       "    .dataframe thead th {\n",
       "        text-align: right;\n",
       "    }\n",
       "</style>\n",
       "<table border=\"1\" class=\"dataframe\">\n",
       "  <thead>\n",
       "    <tr style=\"text-align: right;\">\n",
       "      <th></th>\n",
       "      <th>title</th>\n",
       "      <th>text</th>\n",
       "      <th>subject</th>\n",
       "      <th>date</th>\n",
       "      <th>class</th>\n",
       "    </tr>\n",
       "  </thead>\n",
       "  <tbody>\n",
       "    <tr>\n",
       "      <th>0</th>\n",
       "      <td>JUST IN: DALLAS COWBOYS OWNER Jerry Jones Is L...</td>\n",
       "      <td>Make no mistake about it, the NFL needs to sho...</td>\n",
       "      <td>left-news</td>\n",
       "      <td>Oct 29, 2017</td>\n",
       "      <td>0</td>\n",
       "    </tr>\n",
       "    <tr>\n",
       "      <th>1</th>\n",
       "      <td>Trump Bares Himself at UNGA, “In a Kind of Neo...</td>\n",
       "      <td>President Trump speaking at the UNGA. (Photo:...</td>\n",
       "      <td>Middle-east</td>\n",
       "      <td>September 20, 2017</td>\n",
       "      <td>0</td>\n",
       "    </tr>\n",
       "    <tr>\n",
       "      <th>2</th>\n",
       "      <td>ENVIRONMENTAL TERRORISTS Videotape Themselves ...</td>\n",
       "      <td>The social media director for Trump called the...</td>\n",
       "      <td>Government News</td>\n",
       "      <td>Mar 12, 2017</td>\n",
       "      <td>0</td>\n",
       "    </tr>\n",
       "    <tr>\n",
       "      <th>3</th>\n",
       "      <td>BLACK WOMAN ATTACKS Man, His Car, Boat With Ha...</td>\n",
       "      <td>A black New Jersey woman who said she s  sick ...</td>\n",
       "      <td>politics</td>\n",
       "      <td>Apr 5, 2017</td>\n",
       "      <td>0</td>\n",
       "    </tr>\n",
       "    <tr>\n",
       "      <th>4</th>\n",
       "      <td>Hannity Has A Complete MELTDOWN After Being C...</td>\n",
       "      <td>The son of Sonny and Cher successfully caused ...</td>\n",
       "      <td>News</td>\n",
       "      <td>March 11, 2017</td>\n",
       "      <td>0</td>\n",
       "    </tr>\n",
       "    <tr>\n",
       "      <th>5</th>\n",
       "      <td>CHARLIE DANIELS SENDS A MESSAGE To Bruce Sprin...</td>\n",
       "      <td>Charlie daniels is such a great man and a grea...</td>\n",
       "      <td>left-news</td>\n",
       "      <td>Apr 17, 2016</td>\n",
       "      <td>0</td>\n",
       "    </tr>\n",
       "    <tr>\n",
       "      <th>6</th>\n",
       "      <td>WHY FORD’S DARK SECRET May Come Back To Haunt ...</td>\n",
       "      <td>Founder of the Ford Motor Company, Henry Ford,...</td>\n",
       "      <td>politics</td>\n",
       "      <td>Oct 16, 2017</td>\n",
       "      <td>0</td>\n",
       "    </tr>\n",
       "    <tr>\n",
       "      <th>7</th>\n",
       "      <td>‘Responsible Gun Owner’ Road Rages, Threatens...</td>\n",
       "      <td>The National Rifle Association tells us that a...</td>\n",
       "      <td>News</td>\n",
       "      <td>February 2, 2016</td>\n",
       "      <td>0</td>\n",
       "    </tr>\n",
       "    <tr>\n",
       "      <th>8</th>\n",
       "      <td>WATCH: Trump Stumbles When Asked If He Would ...</td>\n",
       "      <td>Donald Trump sat down with for an interview wi...</td>\n",
       "      <td>News</td>\n",
       "      <td>July 24, 2016</td>\n",
       "      <td>0</td>\n",
       "    </tr>\n",
       "    <tr>\n",
       "      <th>9</th>\n",
       "      <td>Charles Koch Does A Brutally Honest Interview...</td>\n",
       "      <td>Charles Koch sat down with ABC News and did an...</td>\n",
       "      <td>News</td>\n",
       "      <td>April 25, 2016</td>\n",
       "      <td>0</td>\n",
       "    </tr>\n",
       "  </tbody>\n",
       "</table>\n",
       "</div>"
      ],
      "text/plain": [
       "                                               title  \\\n",
       "0  JUST IN: DALLAS COWBOYS OWNER Jerry Jones Is L...   \n",
       "1  Trump Bares Himself at UNGA, “In a Kind of Neo...   \n",
       "2  ENVIRONMENTAL TERRORISTS Videotape Themselves ...   \n",
       "3  BLACK WOMAN ATTACKS Man, His Car, Boat With Ha...   \n",
       "4   Hannity Has A Complete MELTDOWN After Being C...   \n",
       "5  CHARLIE DANIELS SENDS A MESSAGE To Bruce Sprin...   \n",
       "6  WHY FORD’S DARK SECRET May Come Back To Haunt ...   \n",
       "7   ‘Responsible Gun Owner’ Road Rages, Threatens...   \n",
       "8   WATCH: Trump Stumbles When Asked If He Would ...   \n",
       "9   Charles Koch Does A Brutally Honest Interview...   \n",
       "\n",
       "                                                text          subject  \\\n",
       "0  Make no mistake about it, the NFL needs to sho...        left-news   \n",
       "1   President Trump speaking at the UNGA. (Photo:...      Middle-east   \n",
       "2  The social media director for Trump called the...  Government News   \n",
       "3  A black New Jersey woman who said she s  sick ...         politics   \n",
       "4  The son of Sonny and Cher successfully caused ...             News   \n",
       "5  Charlie daniels is such a great man and a grea...        left-news   \n",
       "6  Founder of the Ford Motor Company, Henry Ford,...         politics   \n",
       "7  The National Rifle Association tells us that a...             News   \n",
       "8  Donald Trump sat down with for an interview wi...             News   \n",
       "9  Charles Koch sat down with ABC News and did an...             News   \n",
       "\n",
       "                 date  class  \n",
       "0        Oct 29, 2017      0  \n",
       "1  September 20, 2017      0  \n",
       "2        Mar 12, 2017      0  \n",
       "3         Apr 5, 2017      0  \n",
       "4      March 11, 2017      0  \n",
       "5        Apr 17, 2016      0  \n",
       "6        Oct 16, 2017      0  \n",
       "7    February 2, 2016      0  \n",
       "8       July 24, 2016      0  \n",
       "9      April 25, 2016      0  "
      ]
     },
     "execution_count": 15,
     "metadata": {},
     "output_type": "execute_result"
    }
   ],
   "source": [
    "df_merge = pd.concat([df_fake, df_true], axis =0 )\n",
    "df_merge.head(10)"
   ]
  },
  {
   "cell_type": "code",
   "execution_count": 16,
   "metadata": {},
   "outputs": [
    {
     "data": {
      "text/plain": [
       "Index(['title', 'text', 'subject', 'date', 'class'], dtype='object')"
      ]
     },
     "execution_count": 16,
     "metadata": {},
     "output_type": "execute_result"
    }
   ],
   "source": [
    "df_merge.columns"
   ]
  },
  {
   "cell_type": "markdown",
   "metadata": {},
   "source": [
    "## Removing columns which are not required"
   ]
  },
  {
   "cell_type": "code",
   "execution_count": 17,
   "metadata": {},
   "outputs": [],
   "source": [
    "df = df_merge.drop([\"title\", \"subject\",\"date\"], axis = 1)"
   ]
  },
  {
   "cell_type": "code",
   "execution_count": 18,
   "metadata": {},
   "outputs": [
    {
     "data": {
      "text/plain": [
       "text     0\n",
       "class    0\n",
       "dtype: int64"
      ]
     },
     "execution_count": 18,
     "metadata": {},
     "output_type": "execute_result"
    }
   ],
   "source": [
    "df.isnull().sum()"
   ]
  },
  {
   "cell_type": "markdown",
   "metadata": {},
   "source": [
    "## Random Shuffling the dataframe"
   ]
  },
  {
   "cell_type": "code",
   "execution_count": 19,
   "metadata": {},
   "outputs": [],
   "source": [
    "df = df.sample(frac = 1)"
   ]
  },
  {
   "cell_type": "code",
   "execution_count": 20,
   "metadata": {},
   "outputs": [
    {
     "data": {
      "text/html": [
       "<div>\n",
       "<style scoped>\n",
       "    .dataframe tbody tr th:only-of-type {\n",
       "        vertical-align: middle;\n",
       "    }\n",
       "\n",
       "    .dataframe tbody tr th {\n",
       "        vertical-align: top;\n",
       "    }\n",
       "\n",
       "    .dataframe thead th {\n",
       "        text-align: right;\n",
       "    }\n",
       "</style>\n",
       "<table border=\"1\" class=\"dataframe\">\n",
       "  <thead>\n",
       "    <tr style=\"text-align: right;\">\n",
       "      <th></th>\n",
       "      <th>text</th>\n",
       "      <th>class</th>\n",
       "    </tr>\n",
       "  </thead>\n",
       "  <tbody>\n",
       "    <tr>\n",
       "      <th>16829</th>\n",
       "      <td>Those of us in the swamp knew who the alligat...</td>\n",
       "      <td>0</td>\n",
       "    </tr>\n",
       "    <tr>\n",
       "      <th>18553</th>\n",
       "      <td>Criminal charges are coming down the line for ...</td>\n",
       "      <td>0</td>\n",
       "    </tr>\n",
       "    <tr>\n",
       "      <th>10955</th>\n",
       "      <td>We ve never passed racist laws in this country...</td>\n",
       "      <td>0</td>\n",
       "    </tr>\n",
       "    <tr>\n",
       "      <th>5224</th>\n",
       "      <td></td>\n",
       "      <td>0</td>\n",
       "    </tr>\n",
       "    <tr>\n",
       "      <th>7475</th>\n",
       "      <td>All of the tracking polls keep holding at Tru...</td>\n",
       "      <td>0</td>\n",
       "    </tr>\n",
       "  </tbody>\n",
       "</table>\n",
       "</div>"
      ],
      "text/plain": [
       "                                                    text  class\n",
       "16829   Those of us in the swamp knew who the alligat...      0\n",
       "18553  Criminal charges are coming down the line for ...      0\n",
       "10955  We ve never passed racist laws in this country...      0\n",
       "5224                                                          0\n",
       "7475    All of the tracking polls keep holding at Tru...      0"
      ]
     },
     "execution_count": 20,
     "metadata": {},
     "output_type": "execute_result"
    }
   ],
   "source": [
    "df.head()"
   ]
  },
  {
   "cell_type": "code",
   "execution_count": 21,
   "metadata": {},
   "outputs": [],
   "source": [
    "df.reset_index(inplace = True)\n",
    "df.drop([\"index\"], axis = 1, inplace = True)"
   ]
  },
  {
   "cell_type": "code",
   "execution_count": 22,
   "metadata": {},
   "outputs": [
    {
     "data": {
      "text/plain": [
       "Index(['text', 'class'], dtype='object')"
      ]
     },
     "execution_count": 22,
     "metadata": {},
     "output_type": "execute_result"
    }
   ],
   "source": [
    "df.columns"
   ]
  },
  {
   "cell_type": "code",
   "execution_count": 23,
   "metadata": {},
   "outputs": [
    {
     "data": {
      "text/html": [
       "<div>\n",
       "<style scoped>\n",
       "    .dataframe tbody tr th:only-of-type {\n",
       "        vertical-align: middle;\n",
       "    }\n",
       "\n",
       "    .dataframe tbody tr th {\n",
       "        vertical-align: top;\n",
       "    }\n",
       "\n",
       "    .dataframe thead th {\n",
       "        text-align: right;\n",
       "    }\n",
       "</style>\n",
       "<table border=\"1\" class=\"dataframe\">\n",
       "  <thead>\n",
       "    <tr style=\"text-align: right;\">\n",
       "      <th></th>\n",
       "      <th>text</th>\n",
       "      <th>class</th>\n",
       "    </tr>\n",
       "  </thead>\n",
       "  <tbody>\n",
       "    <tr>\n",
       "      <th>0</th>\n",
       "      <td>Those of us in the swamp knew who the alligat...</td>\n",
       "      <td>0</td>\n",
       "    </tr>\n",
       "    <tr>\n",
       "      <th>1</th>\n",
       "      <td>Criminal charges are coming down the line for ...</td>\n",
       "      <td>0</td>\n",
       "    </tr>\n",
       "    <tr>\n",
       "      <th>2</th>\n",
       "      <td>We ve never passed racist laws in this country...</td>\n",
       "      <td>0</td>\n",
       "    </tr>\n",
       "    <tr>\n",
       "      <th>3</th>\n",
       "      <td></td>\n",
       "      <td>0</td>\n",
       "    </tr>\n",
       "    <tr>\n",
       "      <th>4</th>\n",
       "      <td>All of the tracking polls keep holding at Tru...</td>\n",
       "      <td>0</td>\n",
       "    </tr>\n",
       "  </tbody>\n",
       "</table>\n",
       "</div>"
      ],
      "text/plain": [
       "                                                text  class\n",
       "0   Those of us in the swamp knew who the alligat...      0\n",
       "1  Criminal charges are coming down the line for ...      0\n",
       "2  We ve never passed racist laws in this country...      0\n",
       "3                                                         0\n",
       "4   All of the tracking polls keep holding at Tru...      0"
      ]
     },
     "execution_count": 23,
     "metadata": {},
     "output_type": "execute_result"
    }
   ],
   "source": [
    "df.head()"
   ]
  },
  {
   "cell_type": "markdown",
   "metadata": {},
   "source": [
    "## Creating a function to process the texts"
   ]
  },
  {
   "cell_type": "code",
   "execution_count": 24,
   "metadata": {},
   "outputs": [],
   "source": [
    "def wordopt(text):\n",
    "    text = text.lower()\n",
    "    text = re.sub('\\[.*?\\]', '', text)\n",
    "    text = re.sub(\"\\\\W\",\" \",text) \n",
    "    text = re.sub('https?://\\S+|www\\.\\S+', '', text)\n",
    "    text = re.sub('<.*?>+', '', text)\n",
    "    text = re.sub('[%s]' % re.escape(string.punctuation), '', text)\n",
    "    text = re.sub('\\n', '', text)\n",
    "    text = re.sub('\\w*\\d\\w*', '', text)    \n",
    "    return text"
   ]
  },
  {
   "cell_type": "code",
   "execution_count": 25,
   "metadata": {},
   "outputs": [],
   "source": [
    "df[\"text\"] = df[\"text\"].apply(wordopt)"
   ]
  },
  {
   "cell_type": "markdown",
   "metadata": {},
   "source": [
    "## Defining dependent and independent variables"
   ]
  },
  {
   "cell_type": "code",
   "execution_count": 26,
   "metadata": {},
   "outputs": [],
   "source": [
    "x = df[\"text\"]\n",
    "y = df[\"class\"]"
   ]
  },
  {
   "cell_type": "markdown",
   "metadata": {},
   "source": [
    "## Splitting Training and Testing"
   ]
  },
  {
   "cell_type": "code",
   "execution_count": 27,
   "metadata": {},
   "outputs": [],
   "source": [
    "x_train, x_test, y_train, y_test = train_test_split(x, y, test_size=0.25)"
   ]
  },
  {
   "cell_type": "markdown",
   "metadata": {},
   "source": [
    "## Convert text to vectors"
   ]
  },
  {
   "cell_type": "code",
   "execution_count": 28,
   "metadata": {},
   "outputs": [],
   "source": [
    "from sklearn.feature_extraction.text import TfidfVectorizer\n",
    "\n",
    "vectorization = TfidfVectorizer()\n",
    "xv_train = vectorization.fit_transform(x_train)\n",
    "xv_test = vectorization.transform(x_test)"
   ]
  },
  {
   "cell_type": "markdown",
   "metadata": {},
   "source": [
    "## Logistic Regression"
   ]
  },
  {
   "cell_type": "code",
   "execution_count": 29,
   "metadata": {},
   "outputs": [
    {
     "data": {
      "text/plain": [
       "LogisticRegression()"
      ]
     },
     "execution_count": 29,
     "metadata": {},
     "output_type": "execute_result"
    }
   ],
   "source": [
    "from sklearn.linear_model import LogisticRegression\n",
    "\n",
    "LR = LogisticRegression()\n",
    "LR.fit(xv_train,y_train)"
   ]
  },
  {
   "cell_type": "code",
   "execution_count": 30,
   "metadata": {},
   "outputs": [],
   "source": [
    "pred_lr=LR.predict(xv_test)"
   ]
  },
  {
   "cell_type": "code",
   "execution_count": 31,
   "metadata": {},
   "outputs": [
    {
     "data": {
      "text/plain": [
       "0.9873440285204991"
      ]
     },
     "execution_count": 31,
     "metadata": {},
     "output_type": "execute_result"
    }
   ],
   "source": [
    "LR.score(xv_test, y_test)"
   ]
  },
  {
   "cell_type": "code",
   "execution_count": 32,
   "metadata": {},
   "outputs": [
    {
     "name": "stdout",
     "output_type": "stream",
     "text": [
      "[[5807   72]\n",
      " [  70 5271]]\n"
     ]
    }
   ],
   "source": [
    "from sklearn.metrics import accuracy_score,confusion_matrix\n",
    "confusion_mat = confusion_matrix(y_test,pred_lr)\n",
    "print(confusion_mat)"
   ]
  },
  {
   "cell_type": "code",
   "execution_count": 33,
   "metadata": {},
   "outputs": [
    {
     "name": "stdout",
     "output_type": "stream",
     "text": [
      "              precision    recall  f1-score   support\n",
      "\n",
      "           0       0.99      0.99      0.99      5879\n",
      "           1       0.99      0.99      0.99      5341\n",
      "\n",
      "    accuracy                           0.99     11220\n",
      "   macro avg       0.99      0.99      0.99     11220\n",
      "weighted avg       0.99      0.99      0.99     11220\n",
      "\n"
     ]
    }
   ],
   "source": [
    "print(classification_report(y_test, pred_lr))"
   ]
  },
  {
   "cell_type": "markdown",
   "metadata": {},
   "source": [
    "## Decision Tree Classification"
   ]
  },
  {
   "cell_type": "code",
   "execution_count": 34,
   "metadata": {},
   "outputs": [
    {
     "data": {
      "text/plain": [
       "DecisionTreeClassifier()"
      ]
     },
     "execution_count": 34,
     "metadata": {},
     "output_type": "execute_result"
    }
   ],
   "source": [
    "from sklearn.tree import DecisionTreeClassifier\n",
    "\n",
    "DT = DecisionTreeClassifier()\n",
    "DT.fit(xv_train, y_train)"
   ]
  },
  {
   "cell_type": "code",
   "execution_count": 35,
   "metadata": {},
   "outputs": [],
   "source": [
    "pred_dt = DT.predict(xv_test)"
   ]
  },
  {
   "cell_type": "code",
   "execution_count": 36,
   "metadata": {},
   "outputs": [
    {
     "data": {
      "text/plain": [
       "0.9959893048128342"
      ]
     },
     "execution_count": 36,
     "metadata": {},
     "output_type": "execute_result"
    }
   ],
   "source": [
    "DT.score(xv_test, y_test)"
   ]
  },
  {
   "cell_type": "code",
   "execution_count": 37,
   "metadata": {},
   "outputs": [
    {
     "name": "stdout",
     "output_type": "stream",
     "text": [
      "[[5863   16]\n",
      " [  29 5312]]\n"
     ]
    }
   ],
   "source": [
    "confusion_mat = confusion_matrix(y_test,pred_dt)\n",
    "print(confusion_mat)"
   ]
  },
  {
   "cell_type": "code",
   "execution_count": 38,
   "metadata": {},
   "outputs": [
    {
     "name": "stdout",
     "output_type": "stream",
     "text": [
      "              precision    recall  f1-score   support\n",
      "\n",
      "           0       1.00      1.00      1.00      5879\n",
      "           1       1.00      0.99      1.00      5341\n",
      "\n",
      "    accuracy                           1.00     11220\n",
      "   macro avg       1.00      1.00      1.00     11220\n",
      "weighted avg       1.00      1.00      1.00     11220\n",
      "\n"
     ]
    }
   ],
   "source": [
    "print(classification_report(y_test, pred_dt))"
   ]
  },
  {
   "cell_type": "markdown",
   "metadata": {},
   "source": [
    "## Gradient Boosting Classifier"
   ]
  },
  {
   "cell_type": "code",
   "execution_count": 39,
   "metadata": {},
   "outputs": [
    {
     "data": {
      "text/plain": [
       "GradientBoostingClassifier(random_state=0)"
      ]
     },
     "execution_count": 39,
     "metadata": {},
     "output_type": "execute_result"
    }
   ],
   "source": [
    "from sklearn.ensemble import GradientBoostingClassifier\n",
    "\n",
    "GBC = GradientBoostingClassifier(random_state=0)\n",
    "GBC.fit(xv_train, y_train)"
   ]
  },
  {
   "cell_type": "code",
   "execution_count": 40,
   "metadata": {},
   "outputs": [],
   "source": [
    "pred_gbc = GBC.predict(xv_test)"
   ]
  },
  {
   "cell_type": "code",
   "execution_count": 41,
   "metadata": {},
   "outputs": [
    {
     "data": {
      "text/plain": [
       "0.9962566844919786"
      ]
     },
     "execution_count": 41,
     "metadata": {},
     "output_type": "execute_result"
    }
   ],
   "source": [
    "GBC.score(xv_test, y_test)"
   ]
  },
  {
   "cell_type": "code",
   "execution_count": 42,
   "metadata": {},
   "outputs": [
    {
     "name": "stdout",
     "output_type": "stream",
     "text": [
      "[[5851   28]\n",
      " [  14 5327]]\n"
     ]
    }
   ],
   "source": [
    "confusion_mat = confusion_matrix(y_test,pred_gbc)\n",
    "print(confusion_mat)"
   ]
  },
  {
   "cell_type": "code",
   "execution_count": 43,
   "metadata": {},
   "outputs": [
    {
     "name": "stdout",
     "output_type": "stream",
     "text": [
      "              precision    recall  f1-score   support\n",
      "\n",
      "           0       1.00      1.00      1.00      5879\n",
      "           1       0.99      1.00      1.00      5341\n",
      "\n",
      "    accuracy                           1.00     11220\n",
      "   macro avg       1.00      1.00      1.00     11220\n",
      "weighted avg       1.00      1.00      1.00     11220\n",
      "\n"
     ]
    }
   ],
   "source": [
    "print(classification_report(y_test, pred_gbc))"
   ]
  },
  {
   "cell_type": "markdown",
   "metadata": {},
   "source": [
    "## Random Forest Classifier"
   ]
  },
  {
   "cell_type": "code",
   "execution_count": 44,
   "metadata": {},
   "outputs": [
    {
     "data": {
      "text/plain": [
       "RandomForestClassifier(random_state=0)"
      ]
     },
     "execution_count": 44,
     "metadata": {},
     "output_type": "execute_result"
    }
   ],
   "source": [
    "from sklearn.ensemble import RandomForestClassifier\n",
    "\n",
    "RFC = RandomForestClassifier(random_state=0)\n",
    "RFC.fit(xv_train, y_train)"
   ]
  },
  {
   "cell_type": "code",
   "execution_count": 45,
   "metadata": {},
   "outputs": [],
   "source": [
    "pred_rfc = RFC.predict(xv_test)"
   ]
  },
  {
   "cell_type": "code",
   "execution_count": 46,
   "metadata": {},
   "outputs": [
    {
     "data": {
      "text/plain": [
       "0.9890374331550802"
      ]
     },
     "execution_count": 46,
     "metadata": {},
     "output_type": "execute_result"
    }
   ],
   "source": [
    "RFC.score(xv_test, y_test)"
   ]
  },
  {
   "cell_type": "code",
   "execution_count": 47,
   "metadata": {},
   "outputs": [
    {
     "name": "stdout",
     "output_type": "stream",
     "text": [
      "[[5831   48]\n",
      " [  75 5266]]\n"
     ]
    }
   ],
   "source": [
    "confusion_mat = confusion_matrix(y_test,pred_rfc)\n",
    "print(confusion_mat)"
   ]
  },
  {
   "cell_type": "code",
   "execution_count": 48,
   "metadata": {},
   "outputs": [
    {
     "name": "stdout",
     "output_type": "stream",
     "text": [
      "              precision    recall  f1-score   support\n",
      "\n",
      "           0       0.99      0.99      0.99      5879\n",
      "           1       0.99      0.99      0.99      5341\n",
      "\n",
      "    accuracy                           0.99     11220\n",
      "   macro avg       0.99      0.99      0.99     11220\n",
      "weighted avg       0.99      0.99      0.99     11220\n",
      "\n"
     ]
    }
   ],
   "source": [
    "print(classification_report(y_test, pred_rfc))"
   ]
  },
  {
   "cell_type": "markdown",
   "metadata": {},
   "source": [
    "## Model Testing"
   ]
  },
  {
   "cell_type": "code",
   "execution_count": 49,
   "metadata": {},
   "outputs": [],
   "source": [
    "def output_lable(n):\n",
    "    if n == 0:\n",
    "        return \"Fake News\"\n",
    "    elif n == 1:\n",
    "        return \"True News\"\n",
    "    \n",
    "def manual_testing(news):\n",
    "    testing_news = {\"text\":[news]}\n",
    "    new_def_test = pd.DataFrame(testing_news)\n",
    "    new_def_test[\"text\"] = new_def_test[\"text\"].apply(wordopt) \n",
    "    new_x_test = new_def_test[\"text\"]\n",
    "    new_xv_test = vectorization.transform(new_x_test)\n",
    "    pred_LR = LR.predict(new_xv_test)\n",
    "    pred_DT = DT.predict(new_xv_test)\n",
    "    pred_GBC = GBC.predict(new_xv_test)\n",
    "    pred_RFC = RFC.predict(new_xv_test)\n",
    "\n",
    "    return print(\"\\n\\nLR Prediction: {} \\nDT Prediction: {} \\nGBC Prediction: {} \\nRFC Prediction: {}\".format(output_lable(pred_LR[0]),\n",
    "                                                                                                              output_lable(pred_DT[0]),\n",
    "                                                                                                              output_lable(pred_GBC[0]), \n",
    "                                                                                                              output_lable(pred_RFC[0])))"
   ]
  },
  {
   "cell_type": "code",
   "execution_count": 51,
   "metadata": {},
   "outputs": [
    {
     "name": "stdout",
     "output_type": "stream",
     "text": [
      "WASHINGTON (Reuters) - Legislation that would require law enforcement to obtain a search warrant before asking technology companies to hand over old emails unanimously moved forward in the U.S. House of Representatives on Wednesday, notching a long-awaited win for technology companies and digital privacy advocates. The House Judiciary Committee voted 28-0 to approve the Email Privacy Act, which would update a decades-old law to mandate federal authorities get a warrant to access emails or other digital communications that are more than 180 days old. Currently, law enforcement and civil agencies can ask a service provider to turn over such aged private communications with only a subpoena, which is subject to less judicial oversight than a warrant. House Majority Leader Kevin McCarthy said he planned to bring the bill to a full vote the week of April 25, boosting its chances to become law this year.  If the bill passes the House as expected, it will head to a gridlocked Senate, where more than a quarter of the lawmakers, including No. 2 Republican John Cornyn, has endorsed similar legislation. Debate over law enforcement access to Americansâ€™ electronic communications intensified this year with the Justice Departmentâ€™s pursuit of a court order to force Apple to help unlock an encrypted iPhone linked to one of the San Bernardino, California, shooters. Prior to Wednesdayâ€™s vote, the bill had gained sponsorship from 315 of a possible 435 House lawmakers, making it the most supported bill in the chamber to not earn a vote. Disagreements over whether civil agencies such as the Securities and Exchange Commission should be allowed to rely on subpoenas continually slowed the bill, which has floated around Congress for several years.     The White House also has said it favors reforming the 1986 Electronic Communications Privacy Act, but it has not endorsed specific legislation. A package of minor amendments from Representative Bob Goodlatte, the Republican chairman of the committee, was adopted Wednesday, including the removal of a requirement to serve warrants to the subject of an investigation. The bill requires a warrant to be given only to the email provider. That change and others prompted ire from a coalition of more than 50 civil liberties groups, trade associations and technology companies, including Amazon, Microsoft  and Facebook. While maintaining their support, the coalition said in a letter to the committee that the bill â€œdoes not achieve all of the reforms we had hoped for.â€ \n",
      "\n",
      "\n",
      "LR Prediction: True News \n",
      "DT Prediction: True News \n",
      "GBC Prediction: True News \n",
      "RFC Prediction: True News\n"
     ]
    }
   ],
   "source": [
    "news = str(input())\n",
    "manual_testing(news)"
   ]
  },
  {
   "cell_type": "code",
   "execution_count": null,
   "metadata": {},
   "outputs": [],
   "source": []
  }
 ],
 "metadata": {
  "kernelspec": {
   "display_name": "Python 3",
   "language": "python",
   "name": "python3"
  },
  "language_info": {
   "codemirror_mode": {
    "name": "ipython",
    "version": 3
   },
   "file_extension": ".py",
   "mimetype": "text/x-python",
   "name": "python",
   "nbconvert_exporter": "python",
   "pygments_lexer": "ipython3",
   "version": "3.8.8"
  }
 },
 "nbformat": 4,
 "nbformat_minor": 4
}
